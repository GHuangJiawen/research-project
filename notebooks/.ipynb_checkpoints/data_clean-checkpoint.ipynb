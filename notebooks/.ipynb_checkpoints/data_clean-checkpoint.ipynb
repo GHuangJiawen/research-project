{
 "cells": [
  {
   "cell_type": "code",
   "execution_count": 7,
   "id": "78f1a518-6bc4-4237-bcbd-3c6e1472d330",
   "metadata": {},
   "outputs": [
    {
     "name": "stderr",
     "output_type": "stream",
     "text": [
      "C:\\Users\\GAVIN\\AppData\\Local\\Temp\\ipykernel_93516\\1101613794.py:10: FutureWarning: DataFrame.applymap has been deprecated. Use DataFrame.map instead.\n",
      "  df_cleaned = df.applymap(clean_cell)\n"
     ]
    }
   ],
   "source": [
    "import pandas as pd\n",
    "\n",
    "file_path = 'C:/Users/GAVIN/Desktop/research-project/data/original/FOTM-Dataset-Full-Flattened.csv'  \n",
    "df = pd.read_csv(file_path, low_memory=False)\n",
    "def clean_cell(x):\n",
    "    if pd.isnull(x) or str(x).strip().lower() in ['nan', 'none', '', 'NOT_PROVIDED']:\n",
    "        return 'Not_Provided'\n",
    "    else:\n",
    "        return str(x).strip().title()\n",
    "df_cleaned = df.applymap(clean_cell)\n",
    "columns_to_keep = [\n",
    "    'enslaved_person_id',\n",
    "    'gender',\n",
    "    'approximate_age',\n",
    "    'skills',\n",
    "    'literacy',\n",
    "    'enslaved_person_name_fullname 1',\n",
    "    'publication_date',\n",
    "    'advertisement_id',\n",
    "    'advertisement_transcription',\n",
    "    'advertisement_language',\n",
    "    'newspaper_location_state',\n",
    "    'runaway_location_state 1',\n",
    "    'enslaver_gender 1'\n",
    "]\n",
    "df_final = df_cleaned[columns_to_keep].copy()\n",
    "df_final['publication_year'] = pd.to_datetime(df_final['publication_date'], errors='coerce').dt.year\n",
    "df_final = df_final.drop(columns=['publication_date'])\n",
    "df_final.to_csv('C:/Users/GAVIN/Desktop/research-project/data/processed/1-FOTM-Dataset-Full-Flattened.csv', index=False)\n",
    "\n"
   ]
  },
  {
   "cell_type": "code",
   "execution_count": 8,
   "id": "af0e80a8-dad1-4cba-8e50-11d1d745275f",
   "metadata": {},
   "outputs": [],
   "source": [
    "import pandas as pd\n",
    "df_raw = pd.read_csv('C:/Users/GAVIN/Desktop/research-project/data/processed/1-FOTM-Dataset-Full-Flattened.csv', low_memory=False)\n",
    "def clean_age_preserve_not_provided(value):\n",
    "    if str(value).strip().lower() == 'not_provided':\n",
    "        return 'Not_Provided'\n",
    "    try:\n",
    "        digits = ''.join([ch for ch in str(value) if ch.isdigit()])\n",
    "        age = int(digits) if digits else None\n",
    "        if age is not None and 5 <= age <= 100:\n",
    "            return str(age)  \n",
    "        else:\n",
    "            return 'Not_Provided'\n",
    "    except:\n",
    "        return 'Not_Provided'\n",
    "df_raw['approximate_age'] = df_raw['approximate_age'].apply(clean_age_preserve_not_provided)\n",
    "df_raw.to_csv('C:/Users/GAVIN/Desktop/research-project/data/processed/cleaned-FOTM-Dataset-Full-Flattened.csv', index=False)"
   ]
  },
  {
   "cell_type": "code",
   "execution_count": null,
   "id": "41233d4e-f082-44da-be39-3ab9fe37e7dc",
   "metadata": {},
   "outputs": [],
   "source": []
  }
 ],
 "metadata": {
  "kernelspec": {
   "display_name": "Python [conda env:base] *",
   "language": "python",
   "name": "conda-base-py"
  },
  "language_info": {
   "codemirror_mode": {
    "name": "ipython",
    "version": 3
   },
   "file_extension": ".py",
   "mimetype": "text/x-python",
   "name": "python",
   "nbconvert_exporter": "python",
   "pygments_lexer": "ipython3",
   "version": "3.12.7"
  }
 },
 "nbformat": 4,
 "nbformat_minor": 5
}
